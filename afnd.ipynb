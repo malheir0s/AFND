{
 "cells": [
  {
   "cell_type": "code",
   "execution_count": null,
   "id": "boring-distributor",
   "metadata": {},
   "outputs": [],
   "source": [
    "class Linguagem:\n",
    "\n",
    "    def __init__(self):\n",
    "        self.estados = []\n",
    "        self.simbolos = []\n",
    "        self.dicionario = dict()\n",
    "        self.palavrasTeste = []\n",
    "        self.estadosFinais = []\n",
    "        self.pilhaTransicoes = []"
   ]
  },
  {
   "cell_type": "raw",
   "id": "accomplished-berlin",
   "metadata": {},
   "source": [
    "dicionario armazena como chave uma dupla <o,c> , em que o é o estado atual, e o caractere a ser consumido. o valor associado a essa chave é uma lista de possíveis estados futuros.\n",
    "\n",
    "a variável pilhaTransicoes armazena uma lista que contém todos os possíveis estados futuros, devido ao nao-determinismo das transicoes."
   ]
  },
  {
   "cell_type": "code",
   "execution_count": null,
   "id": "personal-corrections",
   "metadata": {},
   "outputs": [],
   "source": [
    "    def lerTransicoes(self, num):\n",
    "        for i in range (0, num):\n",
    "            transicoes = input().split()\n",
    "            self.criarDicionario(transicoes)"
   ]
  },
  {
   "cell_type": "code",
   "execution_count": null,
   "id": "south-bacteria",
   "metadata": {},
   "outputs": [],
   "source": [
    "    def criarDicionario(self, transicoes):\n",
    "        dupla = transicoes[0]+transicoes[1]\n",
    "        if(dupla in self.dicionario):\n",
    "            self.dicionario[dupla] = self.dicionario[dupla] + [transicoes[2]] \n",
    "        else:\n",
    "            novaTransicao = {transicoes[0]+transicoes[1]:[transicoes[2]]}\n",
    "            self.dicionario.update(novaTransicao)\n",
    "            \n",
    "            "
   ]
  },
  {
   "cell_type": "raw",
   "id": "romantic-separate",
   "metadata": {},
   "source": [
    "Se ja existir uma chave com a dupla atual no dicionario, o respectivo estado futuro da transição é adicionado ao array de valores desta dupla.\n",
    "Se não, é criado um novo array, contendo apenas o estado futuro desta dupla."
   ]
  },
  {
   "cell_type": "code",
   "execution_count": null,
   "id": "naked-purse",
   "metadata": {},
   "outputs": [],
   "source": [
    "    def validarTransicao(self, estado, simbolo):\n",
    "        if((estado+simbolo) in self.dicionario):\n",
    "            return self.dicionario.get(estado+simbolo)\n",
    "        else:\n",
    "            return False"
   ]
  },
  {
   "cell_type": "code",
   "execution_count": null,
   "id": "second-ministry",
   "metadata": {},
   "outputs": [],
   "source": [
    "    def percorrerPalavra(self, palavra, estadoInicial):\n",
    "        self.pilhaTransicoes = [estadoInicial]\n",
    "        for caractere in palavra:\n",
    "            novaPilha = []\n",
    "            for estados in self.pilhaTransicoes:\n",
    "                estadosFuturos = self.validarTransicao(estados, caractere)\n",
    "                if(estadosFuturos):\n",
    "                    for estado in estadosFuturos:\n",
    "                        novaPilha.append(estado)\n",
    "            self.pilhaTransicoes = novaPilha\n",
    "\n",
    "            \n",
    "\n",
    "        aceita = False\n",
    "        for estado in self.pilhaTransicoes:\n",
    "            if(estado in self.estadosFinais):\n",
    "                aceita = True\n",
    "                break\n",
    "    \n",
    "        if(aceita):\n",
    "            print('S')\n",
    "        else:\n",
    "            print('N')\n",
    "            "
   ]
  },
  {
   "cell_type": "raw",
   "id": "brilliant-timing",
   "metadata": {},
   "source": [
    "percorrerPalavra percorre todos os caracteres de uma palavra. O caractere atual da iteração da palavra é feito uma dupla com cada estado na lista pilhaTransicoes, e é feito uma busca no dicionario com cada uma dessas duplas. Se possui uma chave com esta dupla, é feito uma busca no array de valores associados à mesma dupla, que contém justamente os possíveis estados futuros que a dupla pode levar, e cada um destes estados futuros são armazenados na lista novaPilha, que contém todos os possíveis estados futuros para as duplas atuais da pilhaTransicoes, e novaPilha será o novo valor de pilhaTransicoes para a próxima iteração."
   ]
  },
  {
   "cell_type": "code",
   "execution_count": null,
   "id": "tutorial-massachusetts",
   "metadata": {},
   "outputs": [],
   "source": [
    "L1 = Linguagem()\n",
    "L1.estados = input()\n",
    "L1.simbolos = input()\n",
    "numeroTransicoes = int(input())\n",
    "L1.lerTransicoes(numeroTransicoes)\n",
    "estadoInicial = input()\n",
    "L1.estadosFinais = input().split()\n",
    "L1.palavrasTeste = input().split()\n",
    "\n",
    "\n"
   ]
  },
  {
   "cell_type": "code",
   "execution_count": null,
   "id": "optional-archive",
   "metadata": {},
   "outputs": [],
   "source": [
    "for words in L1.palavrasTeste:\n",
    "    L1.percorrerPalavra(words, estadoInicial)"
   ]
  }
 ],
 "metadata": {
  "kernelspec": {
   "display_name": "Python 3",
   "language": "python",
   "name": "python3"
  },
  "language_info": {
   "codemirror_mode": {
    "name": "ipython",
    "version": 3
   },
   "file_extension": ".py",
   "mimetype": "text/x-python",
   "name": "python",
   "nbconvert_exporter": "python",
   "pygments_lexer": "ipython3",
   "version": "3.9.1"
  }
 },
 "nbformat": 4,
 "nbformat_minor": 5
}
